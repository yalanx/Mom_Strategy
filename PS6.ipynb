{
 "cells": [
  {
   "cell_type": "code",
   "execution_count": 1,
   "metadata": {},
   "outputs": [],
   "source": [
    "from datetime import datetime\n",
    "from hw3_mod import fit_FM\n",
    "import statsmodels.formula.api as smf\n",
    "import matplotlib.pyplot as plt\n",
    "import pandas as pd\n",
    "import numpy as np\n",
    "import os\n",
    "import scipy\n",
    "\n",
    "\n",
    "\n",
    "# define directories\n",
    "base_dir = \"/Users/yxiao/Documents/AM 2022/Quant Investing/ps6\"\n",
    "\n",
    "# load data\n",
    "# 30 industries\n",
    "Momentum = pd.read_excel(os.path.join(base_dir, \"Problem_Set6.xls\"),\n",
    "                    sheet_name=0, skiprows=3)\n",
    "Momentum = Momentum.rename(columns={\"Unnamed: 0\": \"date\"})\n",
    "Momentum[\"date\"] = pd.to_datetime(Momentum[\"date\"], format=\"%Y%m\")\n",
    "Momentum = Momentum.set_index(\"date\")\n",
    "Momentum.index = Momentum.index.to_period(\"M\").to_timestamp(\"M\")\n",
    "\n",
    "# FF4F\n",
    "FF4F = pd.read_excel(os.path.join(base_dir, \"Problem_Set6.xls\"),\n",
    "                    sheet_name=1, skiprows=2)\n",
    "FF4F = FF4F.rename(columns={\"Unnamed: 0\": \"date\"})\n",
    "FF4F[\"date\"] = pd.to_datetime(FF4F[\"date\"], format=\"%Y%m\")\n",
    "FF4F = FF4F.set_index(\"date\")\n",
    "FF4F.index = FF4F.index.to_period(\"M\").to_timestamp(\"M\")\n",
    "FF4F = FF4F.rename(columns={\"Mkt-RF\": \"Mkt_RF\"})\n",
    "FF4F_clear_na = FF4F.replace(-999, np.nan).dropna()\n",
    "\n",
    "#Commodity \n",
    "Commodity = pd.read_excel(os.path.join(base_dir, \"Problem_Set6.xls\"),\n",
    "                    sheet_name=2, skiprows=0)\n",
    "Commodity = Commodity.rename(columns={\"time\": \"date\"})\n",
    "Commodity[\"date\"] = pd.to_datetime(Commodity[\"date\"], format=\"%Y%m\")\n",
    "Commodity = Commodity.set_index(\"date\")\n",
    "Commodity.index = Commodity.index.to_period(\"M\").to_timestamp(\"M\")"
   ]
  },
  {
   "cell_type": "code",
   "execution_count": 2,
   "metadata": {},
   "outputs": [],
   "source": [
    "# 125 Size-Past-return portfolios\n",
    "spr = pd.read_excel(os.path.join(base_dir, \"Problem_Set6.xls\"),\n",
    "                    sheet_name=3, skiprows=3)\n",
    "spr = spr.replace(-99.99, np.nan)\n",
    "spr = spr.replace(-999, np.nan)"
   ]
  },
  {
   "cell_type": "code",
   "execution_count": 3,
   "metadata": {},
   "outputs": [],
   "source": [
    "# past 1 month return\n",
    "spr_1m = spr.iloc[:,:26]\n",
    "beme_c = spr_1m.iloc[0,:]\n",
    "cols = [\"c%s_%s\" % (str(c_i).split(\".\")[0], c_j)\n",
    "         for c_i, c_j in zip(spr_1m.columns, beme_c.values)]\n",
    "cols = [c.replace(\".\", \"_\").replace(\"-\", \"_\").replace(\" \", \"_\")\n",
    "         for c in cols]\n",
    "spr_1m.columns = cols\n",
    "spr_1m = spr_1m.iloc[1:,:]\n",
    "spr_1m = spr_1m.rename(columns={\"cSize_Past_1_month_return\": \"date\"})\n",
    "spr_1m[\"date\"] = pd.to_datetime(spr_1m[\"date\"], format=\"%Y%m\")\n",
    "spr_1m = spr_1m.set_index(\"date\")\n",
    "spr_1m.index = spr_1m.index.to_period(\"M\").to_timestamp(\"M\")\n",
    "spr_1m = spr_1m.astype(float)"
   ]
  },
  {
   "cell_type": "code",
   "execution_count": 4,
   "metadata": {},
   "outputs": [],
   "source": [
    "# past 2-12 month return\n",
    "spr_12m = spr.iloc[:,26:52]\n",
    "beme_c = spr_12m.iloc[0,:]\n",
    "cols = [\"c%s_%s\" % (str(c_i).split(\".\")[0], c_j)\n",
    "         for c_i, c_j in zip(spr_12m.columns, beme_c.values)]\n",
    "cols = [c.replace(\".\", \"_\").replace(\"-\", \"_\").replace(\" \", \"_\")\n",
    "         for c in cols]\n",
    "spr_12m.columns = cols\n",
    "spr_12m = spr_12m.iloc[1:,:]\n",
    "spr_12m = spr_12m.rename(columns={\"cSize_Past_2_12_month_return\": \"date\"})\n",
    "spr_12m[\"date\"] = pd.to_datetime(spr_12m[\"date\"], format=\"%Y%m\")\n",
    "spr_12m = spr_12m.set_index(\"date\")\n",
    "spr_12m.index = spr_12m.index.to_period(\"M\").to_timestamp(\"M\")\n",
    "spr_12m = spr_12m.astype(float)"
   ]
  },
  {
   "cell_type": "code",
   "execution_count": 5,
   "metadata": {},
   "outputs": [],
   "source": [
    "# past 13-60 month return\n",
    "spr_60m = spr.iloc[:,52:78]\n",
    "beme_c = spr_60m.iloc[0,:]\n",
    "cols = [\"c%s_%s\" % (str(c_i).split(\".\")[0], c_j)\n",
    "         for c_i, c_j in zip(spr_60m.columns, beme_c.values)]\n",
    "cols = [c.replace(\".\", \"_\").replace(\"-\", \"_\").replace(\" \", \"_\")\n",
    "         for c in cols]\n",
    "spr_60m.columns = cols\n",
    "spr_60m = spr_60m.iloc[1:,:]\n",
    "spr_60m = spr_60m.rename(columns={\"cSize_Past_13_60_month_return\": \"date\"})\n",
    "spr_60m[\"date\"] = pd.to_datetime(spr_60m[\"date\"], format=\"%Y%m\")\n",
    "spr_60m = spr_60m.set_index(\"date\")\n",
    "spr_60m.index = spr_60m.index.to_period(\"M\").to_timestamp(\"M\")\n",
    "spr_60m = spr_60m.astype(float)"
   ]
  },
  {
   "cell_type": "code",
   "execution_count": 6,
   "metadata": {},
   "outputs": [],
   "source": [
    "df_1m = pd.concat([FF4F, spr_1m], axis=1, join=\"inner\")\n",
    "df_1m = df_1m.replace(-999, np.nan).dropna()\n",
    "\n",
    "df_12m = pd.concat([FF4F, spr_12m], axis=1, join=\"inner\")\n",
    "df_12m = df_12m.replace(-999, np.nan).dropna()\n",
    "\n",
    "df_60m = pd.concat([FF4F, spr_60m], axis=1, join=\"inner\")\n",
    "df_60m = df_60m.replace(-999, np.nan).dropna()"
   ]
  },
  {
   "cell_type": "code",
   "execution_count": 7,
   "metadata": {},
   "outputs": [],
   "source": [
    "def mom_strategy(n, Momentum, gap_period): #past n periods, based on the momentum dataframe, gap_period: apply to which following period strategy\n",
    "    cumprod = (1 + Momentum/100).rolling(window = n).agg(lambda x :x.prod())/(1 + Momentum/100).rolling(window = gap_period).agg(lambda x :x.prod()) -1\n",
    "    cumprod = cumprod.dropna() #drop the previous 12 months if it is rolling 12 months strategy\n",
    "    index_of_comprod = cumprod.index\n",
    "    cumprod_copy = cumprod\n",
    "    cumprod_copy.reset_index(inplace = True, drop = True)\n",
    "    Momentum_return = pd.DataFrame(columns = {'Return'})\n",
    "    for i in range(len(cumprod)-1):\n",
    "        cumprod_copy.sort_values(by = i ,ascending = True, axis=1,inplace = True) #Each period, sort the cumulative returns by ascending order\n",
    "        short = Momentum.iloc[i+n][cumprod_copy.iloc[i,0:3].index].mean() #short the min 3 industry\n",
    "        long = Momentum.iloc[i+n][cumprod_copy.iloc[i,-3:].index].mean() #long the max 3 industry \n",
    "        return_LMS = long - short\n",
    "        Momentum_return = Momentum_return.append({'Return':return_LMS} ,ignore_index = True)\n",
    "    Momentum_return.set_index(index_of_comprod[1:],inplace = True)\n",
    "    return Momentum_return\n",
    "    "
   ]
  },
  {
   "cell_type": "code",
   "execution_count": 8,
   "metadata": {},
   "outputs": [],
   "source": [
    "def mom_strategy_commodity(n, Momentum, gap_period): #past n periods, based on the momentum dataframe, gap_period: apply to which following period strategy\n",
    "    cumprod = (1 + Momentum/100).rolling(window = n).agg(lambda x :x.prod())/(1 + Momentum/100).rolling(window = gap_period).agg(lambda x :x.prod()) -1\n",
    "    cumprod = cumprod.iloc[n-1:,:]\n",
    "    index_of_comprod = cumprod.index\n",
    "    cumprod_copy = cumprod\n",
    "    cumprod_copy.reset_index(inplace = True, drop = True)\n",
    "    Momentum_return = pd.DataFrame(columns = {'Return'})\n",
    "    for i in range(len(cumprod)-1):\n",
    "        cumprod_copy.sort_values(by = i ,ascending = True, axis=1,inplace = True) #Each period, sort the cumulative returns by ascending order\n",
    "        cumprod_copy_copy = cumprod_copy.iloc[i,:].dropna()\n",
    "        short = Momentum.iloc[i+n][cumprod_copy_copy.iloc[0:3].index].mean() #short the min 3 industry\n",
    "        long = Momentum.iloc[i+n][cumprod_copy_copy.iloc[-3:].index].mean() #long the max 3 industry \n",
    "        return_LMS = long - short\n",
    "        Momentum_return = Momentum_return.append({'Return':return_LMS} ,ignore_index = True)\n",
    "    Momentum_return.set_index(index_of_comprod[1:],inplace = True)\n",
    "    return Momentum_return\n",
    "    "
   ]
  },
  {
   "cell_type": "code",
   "execution_count": 9,
   "metadata": {},
   "outputs": [],
   "source": [
    "def fit_FM_beta(portfolio_df, factor_df):\n",
    "    \"\"\"fits FM procedure to provided portfolios and factors\n",
    "\n",
    "    Parameters\n",
    "    ----------\n",
    "    portfolio_df : pandas DataFrame\n",
    "        each column corresponds to a portfolio return to test\n",
    "        index corresponds to dates\n",
    "        (should align with factor_df format)\n",
    "    factor_df : pandas DataFrame\n",
    "        each column corresponds to a factor\n",
    "        index corresponds to dates\n",
    "        (should align with portfolio_df format)\n",
    "\n",
    "    Returns\n",
    "    -------\n",
    "    tuple containing DataFrames:\n",
    "        time-series betas\n",
    "        time-series gamma est\n",
    "        time-series aggregate gamma\n",
    "    \"\"\"\n",
    "\n",
    "    # get labels and merge\n",
    "    pf_lab = list(portfolio_df.columns)\n",
    "    factor_lab = list(factor_df.columns)\n",
    "    df = portfolio_df.merge(factor_df, right_index=True,\n",
    "                            left_index=True)\n",
    "\n",
    "    # fit ts betas\n",
    "    beta_l = []\n",
    "    for c in pf_lab:\n",
    "        df_c = df[[c] + factor_lab]\n",
    "        df_c = df_c.dropna()\n",
    "        formula = \"%s ~ %s\" % (c, \" + \".join(factor_lab))\n",
    "        mod = smf.ols(formula, data=df_c)\n",
    "        beta_l.append(mod.fit().params)\n",
    "    beta_df = pd.DataFrame(beta_l, index=pf_lab)\n",
    "    return beta_df, mod.fit().summary()\n"
   ]
  },
  {
   "cell_type": "code",
   "execution_count": 10,
   "metadata": {},
   "outputs": [],
   "source": [
    "def FF3F_test(FF4F,Momentum_1month_1month,strategy_name): #FF4F refers to the factor dataframe, Momentum_1month_1month refers to the momentum return, strategy name is used to print out the outcome.\n",
    "    FF3F_1m1m = pd.concat([Momentum_1month_1month,FF4F[['SMB','HML','Mkt_RF']]],axis = 1).dropna() #Keep the overlap date of the mom strategy and FF4F\n",
    "    FF3F_1m1m_reg = fit_FM_beta(FF3F_1m1m[['Return']], FF3F_1m1m[['SMB','HML','Mkt_RF']])\n",
    "    Alpha_1m1m = FF3F_1m1m_reg[0].iloc[0,0]\n",
    "    t_stats_temp_1m1m = FF3F_1m1m_reg[1].tables[1].as_html()\n",
    "    t_stats_Alpha_1m1m = pd.read_html(t_stats_temp_1m1m, header = 0, index_col = 0)[0].iloc[0,2]\n",
    "    if np.abs(t_stats_Alpha_1m1m) > 1.96:\n",
    "        print(\"The Alpha for \" + str(strategy_name) + \" is: \" + str(Alpha_1m1m) + \". The t_stats for \" + str(strategy_name) + \" is: \" + \n",
    "          str(t_stats_Alpha_1m1m) + \". The 3 factor cannot fully price the strategy.\")\n",
    "    else:\n",
    "        print(\"The Alpha for \" + str(strategy_name) + \" is: \" + str(Alpha_1m1m) + \". The t_stats for \" + str(strategy_name) + \" is: \" + \n",
    "          str(t_stats_Alpha_1m1m) + \". The 3 factor can price the strategy.\")\n",
    "    return"
   ]
  },
  {
   "cell_type": "code",
   "execution_count": 11,
   "metadata": {},
   "outputs": [],
   "source": [
    "def FF4F_test(FF4F_clear_na,Momentum_1month_1month,strategy_name): #FF4F refers to the factor dataframe, Momentum_1month_1month refers to the momentum return, strategy name is used to print out the outcome.\n",
    "    FF4F_1m1m = pd.concat([Momentum_1month_1month,FF4F_clear_na[['SMB','HML','Mkt_RF','UMD']]],axis = 1).dropna() #Keep the overlap date of the mom strategy and FF4F\n",
    "    FF4F_1m1m_reg = fit_FM_beta(FF4F_1m1m[['Return']], FF4F_1m1m[['SMB','HML','Mkt_RF','UMD']])\n",
    "    Alpha_1m1m_4F = FF4F_1m1m_reg[0].iloc[0,0]\n",
    "    t_stats_temp_1m1m_4F = FF4F_1m1m_reg[1].tables[1].as_html()\n",
    "    t_stats_Alpha_1m1m_4F = pd.read_html(t_stats_temp_1m1m_4F, header = 0, index_col = 0)[0].iloc[0,2]\n",
    "    if np.abs(t_stats_Alpha_1m1m_4F) > 1.96:\n",
    "        print(\"The Alpha for \" + str(strategy_name) + \" is: \" + str(Alpha_1m1m_4F) + \". The t_stats for \" + str(strategy_name) + \" is: \" + \n",
    "          str(t_stats_Alpha_1m1m_4F) + \". The 4 factor cannot fully price the strategy.\")\n",
    "    else:\n",
    "        print(\"The Alpha for \" + str(strategy_name) + \" is: \" + str(Alpha_1m1m_4F) + \". The t_stats for \" + str(strategy_name) + \" is: \" + \n",
    "          str(t_stats_Alpha_1m1m_4F) + \". The 4 factor can price the strategy.\")\n",
    "    return"
   ]
  },
  {
   "cell_type": "code",
   "execution_count": 12,
   "metadata": {},
   "outputs": [],
   "source": [
    "def GRS_test(port_df, mkt, smb, hml, umd, rf):\n",
    "  \n",
    "    # fit TS regression\n",
    "    params_l = []\n",
    "    resid_l = []\n",
    "    for c in port_df.columns:\n",
    "        mod_df = pd.DataFrame({c: port_df[c] - rf,\n",
    "                               \"Mkt\": mkt, 'SMB':smb, 'HML':hml, 'UMD':umd})\n",
    "        mod = smf.ols(\"%s ~ Mkt + SMB + HML + UMD\" % c, data=mod_df)\n",
    "        fit = mod.fit()\n",
    "        params = fit.params\n",
    "        params.index = [\"Intercept_coef\", \"Mkt_coef\", \"SMB_coef\", \"HML_coef\", \"UMD_coef\"]\n",
    "        tvalues = fit.tvalues\n",
    "        tvalues.index = [\"Intercept_tstat\", \"Mkt_tstat\", \"SMB_tstat\", \"HML_tstat\", \"UMD_tstat\"]\n",
    "        params_l.append(pd.concat([params, tvalues]))\n",
    "        resid = fit.resid\n",
    "        resid.name = c\n",
    "        resid_l.append(resid)\n",
    "    params = pd.concat(params_l, axis=1).T\n",
    "    params.index = port_df.columns\n",
    "    resid = pd.concat(resid_l, axis=1)\n",
    "\n",
    "    # calculate GRS test stat\n",
    "    T, N = port_df.shape\n",
    "    L = 1\n",
    "    mkt_mn = mkt.mean()\n",
    "    mkt_var = mkt.var()\n",
    "    Sigma = resid.T.dot(resid) / (T-L-1)\n",
    "    alpha = params[\"Intercept_coef\"]\n",
    "    grs = alpha.T.dot(np.linalg.inv(Sigma)).dot(alpha)\n",
    "    grs /= (1 + mkt_mn ** 2 / mkt_var)\n",
    "    grs *= ((T/N) * (T-N-L) / (T-L-1))\n",
    "    grs_pval = 1. - scipy.stats.f.cdf(grs, N, T-N-L)\n",
    "\n",
    "    return params, grs, grs_pval"
   ]
  },
  {
   "cell_type": "code",
   "execution_count": 13,
   "metadata": {},
   "outputs": [
    {
     "name": "stdout",
     "output_type": "stream",
     "text": [
      "The time-series average return is Return    0.72725\n",
      "dtype: float64. The standard deviation is Return    5.40972\n",
      "dtype: float64. The t-stat is Return    4.393339\n",
      "dtype: float64. The Sharpe ratio is Return    0.082288\n",
      "dtype: float64.\n"
     ]
    }
   ],
   "source": [
    "#Problem a\n",
    "Momentum_1month_1month = mom_strategy(1, Momentum, 0)\n",
    "time_series_avg_a = Momentum_1month_1month.mean()\n",
    "std_a = Momentum_1month_1month.std()\n",
    "t_stat = (time_series_avg_a - 0)/(std_a/np.sqrt(len(Momentum_1month_1month)))\n",
    "Rf_a = FF4F.loc[Momentum_1month_1month.index]\n",
    "Sharpe_table = pd.concat([Momentum_1month_1month,Rf_a['RF']],axis =1)\n",
    "Sharpe_ratio = (time_series_avg_a - Sharpe_table['RF'].mean())/std_a\n",
    "print(\"The time-series average return is \" + str(time_series_avg_a) + \". The standard deviation is \" + str(std_a) + \n",
    "      \". The t-stat is \" + str(t_stat) + \". The Sharpe ratio is \" + str(Sharpe_ratio) + '.')"
   ]
  },
  {
   "cell_type": "code",
   "execution_count": 14,
   "metadata": {},
   "outputs": [],
   "source": [
    "#Problem b\n",
    "\n",
    "import statsmodels.api as sm\n",
    "def TS(y,x):\n",
    "    x = sm.add_constant(x)\n",
    "    model=sm.OLS(y,x)\n",
    "    results = model.fit()\n",
    "    residual = results.resid\n",
    "    return results.params, residual"
   ]
  },
  {
   "cell_type": "code",
   "execution_count": 15,
   "metadata": {},
   "outputs": [
    {
     "name": "stdout",
     "output_type": "stream",
     "text": [
      "0.012073985032643631\n"
     ]
    }
   ],
   "source": [
    "sample_means = np.mean(Momentum,axis=0)\n",
    "right1 = np.var(sample_means)\n",
    "print(right1)"
   ]
  },
  {
   "cell_type": "code",
   "execution_count": 16,
   "metadata": {},
   "outputs": [
    {
     "name": "stdout",
     "output_type": "stream",
     "text": [
      "0.13046959793635046\n"
     ]
    }
   ],
   "source": [
    "rf = FF4F[\"RF\"][:-4]\n",
    "a=[]\n",
    "b=[]\n",
    "for i in range(len(FF4F)-5):\n",
    "    a.append(FF4F[\"Mkt_RF\"][i])\n",
    "    b.append(FF4F[\"Mkt_RF\"][i+1])\n",
    "covF = np.cov(b,a)[0][1]\n",
    "\n",
    "beta = []\n",
    "for i in range(len(Momentum.columns)):\n",
    "    y = Momentum.iloc[:,i] - rf\n",
    "    x = FF4F[\"Mkt_RF\"][:-4]\n",
    "    result = TS(y,x)\n",
    "    para=result[0]\n",
    "    beta.append(para[1])\n",
    "    \n",
    "beta_var = np.var(beta)\n",
    "\n",
    "right2 = beta_var*covF\n",
    "print(right2)"
   ]
  },
  {
   "cell_type": "code",
   "execution_count": 51,
   "metadata": {},
   "outputs": [
    {
     "name": "stdout",
     "output_type": "stream",
     "text": [
      "0.6674549394128614\n"
     ]
    }
   ],
   "source": [
    "covE = []\n",
    "for i in range(len(Momentum.columns)):\n",
    "    y = Momentum.iloc[:,i] - rf\n",
    "    x = FF4F[\"Mkt_RF\"][:-4]\n",
    "    resid = TS(y,x)[1]\n",
    "    for m in range(len(resid)-1):\n",
    "        a.append(resid[m])\n",
    "        b.append(resid[m+1])\n",
    "    covE.append(np.cov(a,b)[0,1])\n",
    "right3 = np.mean(covE)\n",
    "print(right3)"
   ]
  },
  {
   "cell_type": "code",
   "execution_count": 52,
   "metadata": {},
   "outputs": [
    {
     "name": "stdout",
     "output_type": "stream",
     "text": [
      "Return    0.72725\n",
      "dtype: float64 0.8099985223818554\n"
     ]
    }
   ],
   "source": [
    "right = right1+right2+right3\n",
    "left = time_series_avg_a\n",
    "print(left,right)"
   ]
  },
  {
   "cell_type": "markdown",
   "metadata": {},
   "source": [
    "## The third part contributes the most to the momentum profits."
   ]
  },
  {
   "cell_type": "code",
   "execution_count": 19,
   "metadata": {},
   "outputs": [
    {
     "name": "stdout",
     "output_type": "stream",
     "text": [
      "The time-series average return is Return    0.940725\n",
      "dtype: float64. The standard deviation is Return    6.092562\n",
      "dtype: float64. The t-stat is Return    5.019961\n",
      "dtype: float64. The Sharpe ratio is Return    0.108089\n",
      "dtype: float64.\n"
     ]
    }
   ],
   "source": [
    "#Problem c\n",
    "Momentum_12month_1month = mom_strategy(12, Momentum, 0)\n",
    "time_series_avg_c = Momentum_12month_1month.mean()\n",
    "std_c = Momentum_12month_1month.std()\n",
    "t_stat_c = (time_series_avg_c - 0)/(std_c/np.sqrt(len(Momentum_12month_1month)))\n",
    "Rf_c = FF4F.loc[Momentum_12month_1month.index]\n",
    "Sharpe_table_c = pd.concat([Momentum_12month_1month,Rf_c['RF']],axis =1)\n",
    "Sharpe_ratio_c = (time_series_avg_c - Sharpe_table_c['RF'].mean())/std_c\n",
    "print(\"The time-series average return is \" + str(time_series_avg_c) + \". The standard deviation is \" + str(std_c) + \n",
    "      \". The t-stat is \" + str(t_stat_c) + \". The Sharpe ratio is \" + str(Sharpe_ratio_c) + '.')"
   ]
  },
  {
   "cell_type": "code",
   "execution_count": 20,
   "metadata": {},
   "outputs": [
    {
     "name": "stdout",
     "output_type": "stream",
     "text": [
      "The time-series average return is Return    0.926402\n",
      "dtype: float64. The standard deviation is Return    5.965484\n",
      "dtype: float64. The t-stat is Return    5.048835\n",
      "dtype: float64. The Sharpe ratio is Return    0.107991\n",
      "dtype: float64.\n"
     ]
    }
   ],
   "source": [
    "#Problem d\n",
    "Momentum_12month_1month_gap = mom_strategy(12, Momentum, 1)\n",
    "time_series_avg_d = Momentum_12month_1month_gap.mean()\n",
    "std_d = Momentum_12month_1month_gap.std()\n",
    "t_stat_d = (time_series_avg_d - 0)/(std_d/np.sqrt(len(Momentum_12month_1month_gap)))\n",
    "Rf_d = FF4F.loc[Momentum_12month_1month_gap.index]\n",
    "Sharpe_table_d = pd.concat([Momentum_12month_1month_gap,Rf_d['RF']],axis =1)\n",
    "Sharpe_ratio_d = (time_series_avg_d - Sharpe_table_d['RF'].mean())/std_d\n",
    "print(\"The time-series average return is \" + str(time_series_avg_d) + \". The standard deviation is \" + str(std_d) + \n",
    "      \". The t-stat is \" + str(t_stat_d) + \". The Sharpe ratio is \" + str(Sharpe_ratio_d) + '.')"
   ]
  },
  {
   "cell_type": "code",
   "execution_count": 21,
   "metadata": {},
   "outputs": [
    {
     "name": "stdout",
     "output_type": "stream",
     "text": [
      "The Alpha for 1month 1month momentum strategy is: 0.7291717455095632. The t_stats for 1month 1month momentum strategy is: 4.373. The 3 factor cannot fully price the strategy.\n"
     ]
    }
   ],
   "source": [
    "#Problem e\n",
    "#1m_1m strategy\n",
    "FF3F_test(FF4F,Momentum_1month_1month,\"1month 1month momentum strategy\")"
   ]
  },
  {
   "cell_type": "code",
   "execution_count": 22,
   "metadata": {},
   "outputs": [
    {
     "name": "stdout",
     "output_type": "stream",
     "text": [
      "The Alpha for 12month 1month momentum strategy is: 1.1914123342172047. The t_stats for 12month 1month momentum strategy is: 6.547000000000001. The 3 factor cannot fully price the strategy.\n"
     ]
    }
   ],
   "source": [
    "#12m_1m strategy\n",
    "FF3F_test(FF4F,Momentum_12month_1month,\"12month 1month momentum strategy\")"
   ]
  },
  {
   "cell_type": "code",
   "execution_count": 23,
   "metadata": {},
   "outputs": [
    {
     "name": "stdout",
     "output_type": "stream",
     "text": [
      "The Alpha for 12month 1month skipping momentum strategy is: 1.168813528492203. The t_stats for 12month 1month skipping momentum strategy is: 6.567. The 3 factor cannot fully price the strategy.\n"
     ]
    }
   ],
   "source": [
    "#12m_1m_gap strategy\n",
    "FF3F_test(FF4F,Momentum_12month_1month_gap,\"12month 1month skipping momentum strategy\")"
   ]
  },
  {
   "cell_type": "code",
   "execution_count": 24,
   "metadata": {},
   "outputs": [
    {
     "name": "stdout",
     "output_type": "stream",
     "text": [
      "The Alpha for 1month 1month momentum strategy is: 0.5924416140978659. The t_stats for 1month 1month momentum strategy is: 3.465. The 4 factor cannot fully price the strategy.\n"
     ]
    }
   ],
   "source": [
    "# Problem f\n",
    "#1m_1m strategy\n",
    "FF4F_test(FF4F_clear_na,Momentum_1month_1month,\"1month 1month momentum strategy\")"
   ]
  },
  {
   "cell_type": "code",
   "execution_count": 25,
   "metadata": {},
   "outputs": [
    {
     "name": "stdout",
     "output_type": "stream",
     "text": [
      "The Alpha for 12month 1month momentum strategy is: 0.22533690926903022. The t_stats for 12month 1month momentum strategy is: 1.655. The 4 factor can price the strategy.\n"
     ]
    }
   ],
   "source": [
    "#12m_1m strategy\n",
    "FF4F_test(FF4F_clear_na,Momentum_12month_1month,\"12month 1month momentum strategy\")"
   ]
  },
  {
   "cell_type": "code",
   "execution_count": 26,
   "metadata": {},
   "outputs": [
    {
     "name": "stdout",
     "output_type": "stream",
     "text": [
      "The Alpha for 12month 1month skipping momentum strategy is: 0.21319064687788514. The t_stats for 12month 1month skipping momentum strategy is: 1.617. The 4 factor can price the strategy.\n"
     ]
    }
   ],
   "source": [
    "#12m_1m_gap strategy\n",
    "FF4F_test(FF4F_clear_na,Momentum_12month_1month_gap,\"12month 1month skipping momentum strategy\")"
   ]
  },
  {
   "cell_type": "code",
   "execution_count": 27,
   "metadata": {},
   "outputs": [
    {
     "data": {
      "text/html": [
       "<div>\n",
       "<style scoped>\n",
       "    .dataframe tbody tr th:only-of-type {\n",
       "        vertical-align: middle;\n",
       "    }\n",
       "\n",
       "    .dataframe tbody tr th {\n",
       "        vertical-align: top;\n",
       "    }\n",
       "\n",
       "    .dataframe thead th {\n",
       "        text-align: right;\n",
       "    }\n",
       "</style>\n",
       "<table border=\"1\" class=\"dataframe\">\n",
       "  <thead>\n",
       "    <tr style=\"text-align: right;\">\n",
       "      <th></th>\n",
       "      <th>Return</th>\n",
       "    </tr>\n",
       "    <tr>\n",
       "      <th>date</th>\n",
       "      <th></th>\n",
       "    </tr>\n",
       "  </thead>\n",
       "  <tbody>\n",
       "    <tr>\n",
       "      <th>1970-02-28</th>\n",
       "      <td>0.036342</td>\n",
       "    </tr>\n",
       "    <tr>\n",
       "      <th>1970-03-31</th>\n",
       "      <td>0.020713</td>\n",
       "    </tr>\n",
       "    <tr>\n",
       "      <th>1970-04-30</th>\n",
       "      <td>0.036066</td>\n",
       "    </tr>\n",
       "    <tr>\n",
       "      <th>1970-05-31</th>\n",
       "      <td>0.002895</td>\n",
       "    </tr>\n",
       "    <tr>\n",
       "      <th>1970-06-30</th>\n",
       "      <td>0.044869</td>\n",
       "    </tr>\n",
       "    <tr>\n",
       "      <th>...</th>\n",
       "      <td>...</td>\n",
       "    </tr>\n",
       "    <tr>\n",
       "      <th>2015-08-31</th>\n",
       "      <td>0.011529</td>\n",
       "    </tr>\n",
       "    <tr>\n",
       "      <th>2015-09-30</th>\n",
       "      <td>-0.127176</td>\n",
       "    </tr>\n",
       "    <tr>\n",
       "      <th>2015-10-31</th>\n",
       "      <td>-0.077336</td>\n",
       "    </tr>\n",
       "    <tr>\n",
       "      <th>2015-11-30</th>\n",
       "      <td>0.091966</td>\n",
       "    </tr>\n",
       "    <tr>\n",
       "      <th>2015-12-31</th>\n",
       "      <td>0.042813</td>\n",
       "    </tr>\n",
       "  </tbody>\n",
       "</table>\n",
       "<p>551 rows × 1 columns</p>\n",
       "</div>"
      ],
      "text/plain": [
       "              Return\n",
       "date                \n",
       "1970-02-28  0.036342\n",
       "1970-03-31  0.020713\n",
       "1970-04-30  0.036066\n",
       "1970-05-31  0.002895\n",
       "1970-06-30  0.044869\n",
       "...              ...\n",
       "2015-08-31  0.011529\n",
       "2015-09-30 -0.127176\n",
       "2015-10-31 -0.077336\n",
       "2015-11-30  0.091966\n",
       "2015-12-31  0.042813\n",
       "\n",
       "[551 rows x 1 columns]"
      ]
     },
     "execution_count": 27,
     "metadata": {},
     "output_type": "execute_result"
    }
   ],
   "source": [
    "# Problem g\n",
    "#g(i)\n",
    "com_momentum_1month_1month = mom_strategy_commodity(1, Commodity, 0)\n",
    "com_momentum_1month_1month"
   ]
  },
  {
   "cell_type": "code",
   "execution_count": 28,
   "metadata": {},
   "outputs": [
    {
     "data": {
      "text/html": [
       "<div>\n",
       "<style scoped>\n",
       "    .dataframe tbody tr th:only-of-type {\n",
       "        vertical-align: middle;\n",
       "    }\n",
       "\n",
       "    .dataframe tbody tr th {\n",
       "        vertical-align: top;\n",
       "    }\n",
       "\n",
       "    .dataframe thead th {\n",
       "        text-align: right;\n",
       "    }\n",
       "</style>\n",
       "<table border=\"1\" class=\"dataframe\">\n",
       "  <thead>\n",
       "    <tr style=\"text-align: right;\">\n",
       "      <th></th>\n",
       "      <th>Return</th>\n",
       "    </tr>\n",
       "    <tr>\n",
       "      <th>date</th>\n",
       "      <th></th>\n",
       "    </tr>\n",
       "  </thead>\n",
       "  <tbody>\n",
       "    <tr>\n",
       "      <th>1971-01-31</th>\n",
       "      <td>0.088998</td>\n",
       "    </tr>\n",
       "    <tr>\n",
       "      <th>1971-02-28</th>\n",
       "      <td>-0.003308</td>\n",
       "    </tr>\n",
       "    <tr>\n",
       "      <th>1971-03-31</th>\n",
       "      <td>-0.069181</td>\n",
       "    </tr>\n",
       "    <tr>\n",
       "      <th>1971-04-30</th>\n",
       "      <td>-0.030483</td>\n",
       "    </tr>\n",
       "    <tr>\n",
       "      <th>1971-05-31</th>\n",
       "      <td>0.019264</td>\n",
       "    </tr>\n",
       "    <tr>\n",
       "      <th>...</th>\n",
       "      <td>...</td>\n",
       "    </tr>\n",
       "    <tr>\n",
       "      <th>2015-08-31</th>\n",
       "      <td>-0.046325</td>\n",
       "    </tr>\n",
       "    <tr>\n",
       "      <th>2015-09-30</th>\n",
       "      <td>0.022521</td>\n",
       "    </tr>\n",
       "    <tr>\n",
       "      <th>2015-10-31</th>\n",
       "      <td>0.034670</td>\n",
       "    </tr>\n",
       "    <tr>\n",
       "      <th>2015-11-30</th>\n",
       "      <td>0.086501</td>\n",
       "    </tr>\n",
       "    <tr>\n",
       "      <th>2015-12-31</th>\n",
       "      <td>0.046270</td>\n",
       "    </tr>\n",
       "  </tbody>\n",
       "</table>\n",
       "<p>540 rows × 1 columns</p>\n",
       "</div>"
      ],
      "text/plain": [
       "              Return\n",
       "date                \n",
       "1971-01-31  0.088998\n",
       "1971-02-28 -0.003308\n",
       "1971-03-31 -0.069181\n",
       "1971-04-30 -0.030483\n",
       "1971-05-31  0.019264\n",
       "...              ...\n",
       "2015-08-31 -0.046325\n",
       "2015-09-30  0.022521\n",
       "2015-10-31  0.034670\n",
       "2015-11-30  0.086501\n",
       "2015-12-31  0.046270\n",
       "\n",
       "[540 rows x 1 columns]"
      ]
     },
     "execution_count": 28,
     "metadata": {},
     "output_type": "execute_result"
    }
   ],
   "source": [
    "com_momentum_12month_1month = mom_strategy_commodity(12, Commodity, 0)\n",
    "com_momentum_12month_1month"
   ]
  },
  {
   "cell_type": "code",
   "execution_count": 29,
   "metadata": {},
   "outputs": [
    {
     "data": {
      "text/html": [
       "<div>\n",
       "<style scoped>\n",
       "    .dataframe tbody tr th:only-of-type {\n",
       "        vertical-align: middle;\n",
       "    }\n",
       "\n",
       "    .dataframe tbody tr th {\n",
       "        vertical-align: top;\n",
       "    }\n",
       "\n",
       "    .dataframe thead th {\n",
       "        text-align: right;\n",
       "    }\n",
       "</style>\n",
       "<table border=\"1\" class=\"dataframe\">\n",
       "  <thead>\n",
       "    <tr style=\"text-align: right;\">\n",
       "      <th></th>\n",
       "      <th>Return</th>\n",
       "    </tr>\n",
       "    <tr>\n",
       "      <th>date</th>\n",
       "      <th></th>\n",
       "    </tr>\n",
       "  </thead>\n",
       "  <tbody>\n",
       "    <tr>\n",
       "      <th>1971-01-31</th>\n",
       "      <td>0.088998</td>\n",
       "    </tr>\n",
       "    <tr>\n",
       "      <th>1971-02-28</th>\n",
       "      <td>-0.003308</td>\n",
       "    </tr>\n",
       "    <tr>\n",
       "      <th>1971-03-31</th>\n",
       "      <td>-0.069181</td>\n",
       "    </tr>\n",
       "    <tr>\n",
       "      <th>1971-04-30</th>\n",
       "      <td>-0.030483</td>\n",
       "    </tr>\n",
       "    <tr>\n",
       "      <th>1971-05-31</th>\n",
       "      <td>0.026990</td>\n",
       "    </tr>\n",
       "    <tr>\n",
       "      <th>...</th>\n",
       "      <td>...</td>\n",
       "    </tr>\n",
       "    <tr>\n",
       "      <th>2015-08-31</th>\n",
       "      <td>-0.008920</td>\n",
       "    </tr>\n",
       "    <tr>\n",
       "      <th>2015-09-30</th>\n",
       "      <td>0.041359</td>\n",
       "    </tr>\n",
       "    <tr>\n",
       "      <th>2015-10-31</th>\n",
       "      <td>-0.004309</td>\n",
       "    </tr>\n",
       "    <tr>\n",
       "      <th>2015-11-30</th>\n",
       "      <td>0.066577</td>\n",
       "    </tr>\n",
       "    <tr>\n",
       "      <th>2015-12-31</th>\n",
       "      <td>-0.036823</td>\n",
       "    </tr>\n",
       "  </tbody>\n",
       "</table>\n",
       "<p>540 rows × 1 columns</p>\n",
       "</div>"
      ],
      "text/plain": [
       "              Return\n",
       "date                \n",
       "1971-01-31  0.088998\n",
       "1971-02-28 -0.003308\n",
       "1971-03-31 -0.069181\n",
       "1971-04-30 -0.030483\n",
       "1971-05-31  0.026990\n",
       "...              ...\n",
       "2015-08-31 -0.008920\n",
       "2015-09-30  0.041359\n",
       "2015-10-31 -0.004309\n",
       "2015-11-30  0.066577\n",
       "2015-12-31 -0.036823\n",
       "\n",
       "[540 rows x 1 columns]"
      ]
     },
     "execution_count": 29,
     "metadata": {},
     "output_type": "execute_result"
    }
   ],
   "source": [
    "com_momentum_12month_1month_gap = mom_strategy_commodity(12, Commodity, 1)\n",
    "com_momentum_12month_1month_gap"
   ]
  },
  {
   "cell_type": "markdown",
   "metadata": {},
   "source": [
    "## This matters. As more types of commodities adding in, it is hard to test if the momentum is casued by the characteristics of the fixed types of commodities. \n",
    "## For example, if we are going to test the mean-reversion explanation, this way of dealing data might add distractions to the dataset."
   ]
  },
  {
   "cell_type": "code",
   "execution_count": 30,
   "metadata": {},
   "outputs": [
    {
     "name": "stdout",
     "output_type": "stream",
     "text": [
      "The Alpha for 1month 1month momentum strategy is: 0.017411657603063527. The t_stats for 1month 1month momentum strategy is: 4.236000000000001. The 3 factor cannot fully price the strategy.\n"
     ]
    }
   ],
   "source": [
    "#g(ii)\n",
    "# 3 Factor Model\n",
    "#1m_1m strategy_commodity\n",
    "FF3F_test(FF4F,com_momentum_1month_1month,\"1month 1month momentum strategy\")"
   ]
  },
  {
   "cell_type": "code",
   "execution_count": 31,
   "metadata": {},
   "outputs": [
    {
     "name": "stdout",
     "output_type": "stream",
     "text": [
      "The Alpha for 12month 1month momentum strategy is: 0.010819916089178289. The t_stats for 12month 1month momentum strategy is: 2.697. The 3 factor cannot fully price the strategy.\n"
     ]
    }
   ],
   "source": [
    "#12m_1m strategy_commodity\n",
    "FF3F_test(FF4F,com_momentum_12month_1month,\"12month 1month momentum strategy\")"
   ]
  },
  {
   "cell_type": "code",
   "execution_count": 32,
   "metadata": {},
   "outputs": [
    {
     "name": "stdout",
     "output_type": "stream",
     "text": [
      "The Alpha for 12month 1month skipping momentum strategy is: 0.01012097679047665. The t_stats for 12month 1month skipping momentum strategy is: 2.583. The 3 factor cannot fully price the strategy.\n"
     ]
    }
   ],
   "source": [
    "#12m_1m_gap strategy_commodity\n",
    "FF3F_test(FF4F,com_momentum_12month_1month_gap,\"12month 1month skipping momentum strategy\")"
   ]
  },
  {
   "cell_type": "code",
   "execution_count": 33,
   "metadata": {},
   "outputs": [
    {
     "name": "stdout",
     "output_type": "stream",
     "text": [
      "The Alpha for 1month 1month momentum strategy is: 0.015633388287010296. The t_stats for 1month 1month momentum strategy is: 3.733. The 4 factor cannot fully price the strategy.\n"
     ]
    }
   ],
   "source": [
    "# 4 Factor Model\n",
    "#1m_1m strategy_commodity\n",
    "FF4F_test(FF4F_clear_na,com_momentum_1month_1month,\"1month 1month momentum strategy\")"
   ]
  },
  {
   "cell_type": "code",
   "execution_count": 34,
   "metadata": {},
   "outputs": [
    {
     "name": "stdout",
     "output_type": "stream",
     "text": [
      "The Alpha for 12month 1month momentum strategy is: 0.006469396613087893. The t_stats for 12month 1month momentum strategy is: 1.614. The 4 factor can price the strategy.\n"
     ]
    }
   ],
   "source": [
    "#12m_1m strategy_commodity\n",
    "FF4F_test(FF4F_clear_na,com_momentum_12month_1month,\"12month 1month momentum strategy\")"
   ]
  },
  {
   "cell_type": "code",
   "execution_count": 35,
   "metadata": {},
   "outputs": [
    {
     "name": "stdout",
     "output_type": "stream",
     "text": [
      "The Alpha for 12month 1month skipping momentum strategy is: 0.0066676888868744955. The t_stats for 12month 1month skipping momentum strategy is: 1.689. The 4 factor can price the strategy.\n"
     ]
    }
   ],
   "source": [
    "#12m_1m_gap strategy_commodity\n",
    "FF4F_test(FF4F_clear_na,com_momentum_12month_1month_gap,\"12month 1month skipping momentum strategy\")"
   ]
  },
  {
   "cell_type": "code",
   "execution_count": 36,
   "metadata": {},
   "outputs": [
    {
     "data": {
      "text/plain": [
       "0.13370707654083522"
      ]
     },
     "execution_count": 36,
     "metadata": {},
     "output_type": "execute_result"
    }
   ],
   "source": [
    "#g(iii)\n",
    "#1,1 IND MOM with 1,1 COM MOM\n",
    "pd.concat([Momentum_1month_1month,com_momentum_1month_1month], axis = 1).dropna().corr().iloc[0,1]"
   ]
  },
  {
   "cell_type": "code",
   "execution_count": 37,
   "metadata": {},
   "outputs": [
    {
     "data": {
      "text/plain": [
       "0.1920289821928069"
      ]
     },
     "execution_count": 37,
     "metadata": {},
     "output_type": "execute_result"
    }
   ],
   "source": [
    "#12,1 IND MOM with 12,1 COM MOM\n",
    "pd.concat([Momentum_12month_1month,com_momentum_12month_1month], axis = 1).dropna().corr().iloc[0,1]"
   ]
  },
  {
   "cell_type": "code",
   "execution_count": 38,
   "metadata": {},
   "outputs": [
    {
     "data": {
      "text/plain": [
       "0.1616323492260599"
      ]
     },
     "execution_count": 38,
     "metadata": {},
     "output_type": "execute_result"
    }
   ],
   "source": [
    "#12,1_gap IND MOM with 12,1_gap COM MOM\n",
    "pd.concat([Momentum_12month_1month_gap,com_momentum_12month_1month_gap], axis = 1).dropna().corr().iloc[0,1]"
   ]
  },
  {
   "cell_type": "code",
   "execution_count": 39,
   "metadata": {},
   "outputs": [],
   "source": [
    "FF3F_12m1m_temp = pd.concat([Momentum_12month_1month,FF4F[['SMB','HML','Mkt_RF']]],axis = 1).dropna()\n",
    "com_momentum_12month_1month_rename = com_momentum_12month_1month.rename(columns = {\"Return\": \"COM_MOM\"})\n",
    "FF3F_12m1m = pd.concat([FF3F_12m1m_temp,com_momentum_12month_1month_rename],axis = 1).dropna()"
   ]
  },
  {
   "cell_type": "code",
   "execution_count": 40,
   "metadata": {},
   "outputs": [
    {
     "name": "stdout",
     "output_type": "stream",
     "text": [
      "The Alpha for 12month 1 month momemtum strategy is: 1.0047670108088367. The t_stats for 12month 1 month momemtum strategy is: 3.5439999999999996. The 3 factors with Commodity momentum cannot fully price the strategy.\n"
     ]
    }
   ],
   "source": [
    "#g(iv)\n",
    "FF3F_12m1m_temp = pd.concat([Momentum_12month_1month,FF4F[['SMB','HML','Mkt_RF']]],axis = 1).dropna()\n",
    "com_momentum_12month_1month_rename = com_momentum_12month_1month.rename(columns = {\"Return\": \"COM_MOM\"})\n",
    "FF3F_12m1m = pd.concat([FF3F_12m1m_temp,com_momentum_12month_1month_rename],axis = 1).dropna()\n",
    "FF3F_12m1m_reg = fit_FM_beta(FF3F_12m1m[['Return']], FF3F_12m1m[['SMB','HML','Mkt_RF','COM_MOM']])\n",
    "Alpha_12m1m = FF3F_12m1m_reg[0].iloc[0,0]\n",
    "t_stats_temp_12m1m = FF3F_12m1m_reg[1].tables[1].as_html()\n",
    "t_stats_Alpha_12m1m = pd.read_html(t_stats_temp_12m1m, header = 0, index_col = 0)[0].iloc[0,2]\n",
    "if np.abs(t_stats_Alpha_12m1m) > 1.96:\n",
    "    print(\"The Alpha for 12month 1 month momemtum strategy is: \" + str(Alpha_12m1m) + \". The t_stats for 12month 1 month momemtum strategy is: \" + \n",
    "          str(t_stats_Alpha_12m1m) + \". The 3 factors with Commodity momentum cannot fully price the strategy.\")\n",
    "else:\n",
    "    print(\"The Alpha for 12month 1 month momemtum strategy is: \" + str(Alpha_12m1m) + \". The t_stats for 12month 1 month momemtum strategy is: \" + \n",
    "          str(t_stats_Alpha_12m1m) + \".The 3 factors with Commodity momentum can price the strategy.\")"
   ]
  },
  {
   "cell_type": "code",
   "execution_count": 41,
   "metadata": {},
   "outputs": [
    {
     "name": "stdout",
     "output_type": "stream",
     "text": [
      "The Alpha for 12month 1 month momemtum strategy is: 0.007572247908321237. The t_stats for 12month 1 month momemtum strategy is: 1.881.The 3 factors with Industry momentum can price the strategy.\n"
     ]
    }
   ],
   "source": [
    "#g(v)\n",
    "FF3F_12m1m_reg = fit_FM_beta(FF3F_12m1m[['COM_MOM']], FF3F_12m1m[['SMB','HML','Mkt_RF','Return']])\n",
    "Alpha_12m1m = FF3F_12m1m_reg[0].iloc[0,0]\n",
    "t_stats_temp_12m1m = FF3F_12m1m_reg[1].tables[1].as_html()\n",
    "t_stats_Alpha_12m1m = pd.read_html(t_stats_temp_12m1m, header = 0, index_col = 0)[0].iloc[0,2]\n",
    "if np.abs(t_stats_Alpha_12m1m) > 1.96:\n",
    "    print(\"The Alpha for 12month 1 month momemtum strategy is: \" + str(Alpha_12m1m) + \". The t_stats for 12month 1 month momemtum strategy is: \" + \n",
    "          str(t_stats_Alpha_12m1m) + \". The 3 factors with Industry momentum cannot fully price the strategy.\")\n",
    "else:\n",
    "    print(\"The Alpha for 12month 1 month momemtum strategy is: \" + str(Alpha_12m1m) + \". The t_stats for 12month 1 month momemtum strategy is: \" + \n",
    "          str(t_stats_Alpha_12m1m) + \".The 3 factors with Industry momentum can price the strategy.\")"
   ]
  },
  {
   "cell_type": "markdown",
   "metadata": {},
   "source": [
    "g(vi)\n",
    "## When adding commodity momentum to the 3 factors, the result still cannot price the industry momentum strategy. However, when doing the reverse by adding the industry momentum to the 3 factors, it succeeds in pricing the commodity momentum. \n",
    "## This outcome is quite surprising. Only either side takes effect. What's more, when considering their correlation, it is as low as about 0.19. Given that we conducting the 4 factor regession with the UMD\" factor, one explanation would be that the industry momentum is closer to the \"UMD\" factor than the commondity momentum."
   ]
  },
  {
   "cell_type": "code",
   "execution_count": 42,
   "metadata": {},
   "outputs": [
    {
     "data": {
      "text/plain": [
       "(10.113059752792768, 1.1102230246251565e-16)"
      ]
     },
     "execution_count": 42,
     "metadata": {},
     "output_type": "execute_result"
    }
   ],
   "source": [
    "# Problem h\n",
    "params_1m, grs_1m, grs_pval_1m = GRS_test(df_1m.iloc[:,5:31], df_1m.iloc[:,0], df_1m.iloc[:,1], df_1m.iloc[:,2], df_1m.iloc[:,4], df_1m.iloc[:,3])\n",
    "grs_1m, grs_pval_1m"
   ]
  },
  {
   "cell_type": "code",
   "execution_count": 43,
   "metadata": {},
   "outputs": [
    {
     "data": {
      "text/plain": [
       "(2.390466479091828, 0.00015562616612363467)"
      ]
     },
     "execution_count": 43,
     "metadata": {},
     "output_type": "execute_result"
    }
   ],
   "source": [
    "params_12m, grs_12m, grs_pval_12m = GRS_test(df_12m.iloc[:,5:31], df_12m.iloc[:,0], df_12m.iloc[:,1], df_12m.iloc[:,2], df_12m.iloc[:,4], df_12m.iloc[:,3])\n",
    "grs_12m, grs_pval_12m"
   ]
  },
  {
   "cell_type": "code",
   "execution_count": 44,
   "metadata": {},
   "outputs": [
    {
     "data": {
      "text/plain": [
       "(2.079334190861083, 0.0014983175421063866)"
      ]
     },
     "execution_count": 44,
     "metadata": {},
     "output_type": "execute_result"
    }
   ],
   "source": [
    "params_60m, grs_60m, grs_pval_60m = GRS_test(df_60m.iloc[:,5:31], df_60m.iloc[:,0], df_60m.iloc[:,1], df_60m.iloc[:,2], df_60m.iloc[:,4], df_60m.iloc[:,3])\n",
    "grs_60m, grs_pval_60m"
   ]
  },
  {
   "cell_type": "markdown",
   "metadata": {},
   "source": [
    "Which sets of 25 portfolios are explained by the model and which aren’t? Which set of portfolios does the model have the most difficult time explaining? Which results are the most surprising?\n",
    "\n",
    "## All sets are explained well by the model under 5% confidence level. However, only short-term (1 month) portfolios and intermediate-term (12-month) portfolios are explained well by the model under 1% confidence level. The model have most difficult explaining the long-term (60-month) portfolios.\n",
    "\n",
    "## Momentum strategy by itself can only yield relatively low absolute return. According to our results, Fama French 3 factor model cannot price the momentum strategy well; while Fama French 4 factor model can price the momentum strategy better. Momentum strategy works the best for short-term 1-month past return sorted portfolios."
   ]
  }
 ],
 "metadata": {
  "kernelspec": {
   "display_name": "Python 3",
   "language": "python",
   "name": "python3"
  },
  "language_info": {
   "codemirror_mode": {
    "name": "ipython",
    "version": 3
   },
   "file_extension": ".py",
   "mimetype": "text/x-python",
   "name": "python",
   "nbconvert_exporter": "python",
   "pygments_lexer": "ipython3",
   "version": "3.8.3"
  }
 },
 "nbformat": 4,
 "nbformat_minor": 4
}
